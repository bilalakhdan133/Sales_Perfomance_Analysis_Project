{
  "cells": [
    {
      "cell_type": "code",
      "execution_count": 17,
      "id": "d8bd4750",
      "metadata": {
        "id": "d8bd4750"
      },
      "outputs": [],
      "source": [
        "import pandas as pd\n",
        "import os"
      ]
    },
    {
      "attachments": {},
      "cell_type": "markdown",
      "id": "97b96d90",
      "metadata": {
        "id": "97b96d90"
      },
      "source": [
        "## Question"
      ]
    },
    {
      "attachments": {},
      "cell_type": "markdown",
      "id": "18712a12",
      "metadata": {
        "id": "18712a12"
      },
      "source": [
        "1. What was the best month for sales? How much was earned that month?\n",
        "2. What city sold the most product?\n",
        "3. What time should we display advertisemens to maximize the likelihood of customer’s buying product?\n",
        "4. What product sold the most?"
      ]
    },
    {
      "attachments": {},
      "cell_type": "markdown",
      "id": "2d641166",
      "metadata": {
        "id": "2d641166"
      },
      "source": [
        "# 1. Merge all the data"
      ]
    },
    {
      "cell_type": "code",
      "execution_count": 18,
      "id": "72ef1ced",
      "metadata": {
        "id": "72ef1ced"
      },
      "outputs": [],
      "source": [
        "# files = [file for file in os.listdir('./Dataset')]\n",
        "\n",
        "# all_data = pd.DataFrame()\n",
        "\n",
        "# for csv_file in files:\n",
        "#     data = pd.read_csv('./Dataset/'+csv_file)\n",
        "#     all_data = pd.concat([all_data,data])\n",
        "    \n",
        "   \n",
        "# all_data.to_csv(\"all_data.csv\",index=False)"
      ]
    },
    {
      "cell_type": "code",
      "execution_count": 19,
      "id": "7d357ceb",
      "metadata": {
        "id": "7d357ceb",
        "outputId": "ada170c2-2ccb-47d1-c461-8b6f06a825af"
      },
      "outputs": [
        {
          "data": {
            "text/html": [
              "<div>\n",
              "<style scoped>\n",
              "    .dataframe tbody tr th:only-of-type {\n",
              "        vertical-align: middle;\n",
              "    }\n",
              "\n",
              "    .dataframe tbody tr th {\n",
              "        vertical-align: top;\n",
              "    }\n",
              "\n",
              "    .dataframe thead th {\n",
              "        text-align: right;\n",
              "    }\n",
              "</style>\n",
              "<table border=\"1\" class=\"dataframe\">\n",
              "  <thead>\n",
              "    <tr style=\"text-align: right;\">\n",
              "      <th></th>\n",
              "      <th>Order ID</th>\n",
              "      <th>Product</th>\n",
              "      <th>Quantity Ordered</th>\n",
              "      <th>Price Each</th>\n",
              "      <th>Order Date</th>\n",
              "      <th>Purchase Address</th>\n",
              "    </tr>\n",
              "  </thead>\n",
              "  <tbody>\n",
              "    <tr>\n",
              "      <th>0</th>\n",
              "      <td>176558</td>\n",
              "      <td>USB-C Charging Cable</td>\n",
              "      <td>2</td>\n",
              "      <td>11.95</td>\n",
              "      <td>04/19/19 08:46</td>\n",
              "      <td>917 1st St, Dallas, TX 75001</td>\n",
              "    </tr>\n",
              "    <tr>\n",
              "      <th>1</th>\n",
              "      <td>NaN</td>\n",
              "      <td>NaN</td>\n",
              "      <td>NaN</td>\n",
              "      <td>NaN</td>\n",
              "      <td>NaN</td>\n",
              "      <td>NaN</td>\n",
              "    </tr>\n",
              "    <tr>\n",
              "      <th>2</th>\n",
              "      <td>176559</td>\n",
              "      <td>Bose SoundSport Headphones</td>\n",
              "      <td>1</td>\n",
              "      <td>99.99</td>\n",
              "      <td>04/07/19 22:30</td>\n",
              "      <td>682 Chestnut St, Boston, MA 02215</td>\n",
              "    </tr>\n",
              "    <tr>\n",
              "      <th>3</th>\n",
              "      <td>176560</td>\n",
              "      <td>Google Phone</td>\n",
              "      <td>1</td>\n",
              "      <td>600</td>\n",
              "      <td>04/12/19 14:38</td>\n",
              "      <td>669 Spruce St, Los Angeles, CA 90001</td>\n",
              "    </tr>\n",
              "    <tr>\n",
              "      <th>4</th>\n",
              "      <td>176560</td>\n",
              "      <td>Wired Headphones</td>\n",
              "      <td>1</td>\n",
              "      <td>11.99</td>\n",
              "      <td>04/12/19 14:38</td>\n",
              "      <td>669 Spruce St, Los Angeles, CA 90001</td>\n",
              "    </tr>\n",
              "  </tbody>\n",
              "</table>\n",
              "</div>"
            ],
            "text/plain": [
              "  Order ID                     Product Quantity Ordered Price Each  \\\n",
              "0   176558        USB-C Charging Cable                2      11.95   \n",
              "1      NaN                         NaN              NaN        NaN   \n",
              "2   176559  Bose SoundSport Headphones                1      99.99   \n",
              "3   176560                Google Phone                1        600   \n",
              "4   176560            Wired Headphones                1      11.99   \n",
              "\n",
              "       Order Date                      Purchase Address  \n",
              "0  04/19/19 08:46          917 1st St, Dallas, TX 75001  \n",
              "1             NaN                                   NaN  \n",
              "2  04/07/19 22:30     682 Chestnut St, Boston, MA 02215  \n",
              "3  04/12/19 14:38  669 Spruce St, Los Angeles, CA 90001  \n",
              "4  04/12/19 14:38  669 Spruce St, Los Angeles, CA 90001  "
            ]
          },
          "execution_count": 19,
          "metadata": {},
          "output_type": "execute_result"
        }
      ],
      "source": [
        "uncleaned = pd.read_csv('all_data.csv')\n",
        "uncleaned.head()"
      ]
    },
    {
      "attachments": {},
      "cell_type": "markdown",
      "id": "b9ec5949",
      "metadata": {
        "id": "b9ec5949"
      },
      "source": [
        "### Inspect the data"
      ]
    },
    {
      "cell_type": "code",
      "execution_count": 20,
      "id": "e83e3cb9",
      "metadata": {
        "id": "e83e3cb9",
        "outputId": "8d915e43-e749-4e47-f888-9d3d20f422af"
      },
      "outputs": [
        {
          "data": {
            "text/plain": [
              "Index(['Order ID', 'Product', 'Quantity Ordered', 'Price Each', 'Order Date',\n",
              "       'Purchase Address'],\n",
              "      dtype='object')"
            ]
          },
          "execution_count": 20,
          "metadata": {},
          "output_type": "execute_result"
        }
      ],
      "source": [
        "uncleaned.columns"
      ]
    },
    {
      "cell_type": "code",
      "execution_count": 21,
      "id": "28bd1355",
      "metadata": {
        "id": "28bd1355",
        "outputId": "0104ca8c-38f6-4cfb-a4b3-1a2c538810a4"
      },
      "outputs": [
        {
          "data": {
            "text/plain": [
              "(186850, 6)"
            ]
          },
          "execution_count": 21,
          "metadata": {},
          "output_type": "execute_result"
        }
      ],
      "source": [
        "uncleaned.shape"
      ]
    },
    {
      "cell_type": "code",
      "execution_count": 22,
      "id": "1ef9cd81",
      "metadata": {
        "id": "1ef9cd81",
        "outputId": "713db59d-ba1c-420f-d13c-a0d6f21d4949"
      },
      "outputs": [
        {
          "name": "stdout",
          "output_type": "stream",
          "text": [
            "<class 'pandas.core.frame.DataFrame'>\n",
            "RangeIndex: 186850 entries, 0 to 186849\n",
            "Data columns (total 6 columns):\n",
            " #   Column            Non-Null Count   Dtype \n",
            "---  ------            --------------   ----- \n",
            " 0   Order ID          186305 non-null  object\n",
            " 1   Product           186305 non-null  object\n",
            " 2   Quantity Ordered  186305 non-null  object\n",
            " 3   Price Each        186305 non-null  object\n",
            " 4   Order Date        186305 non-null  object\n",
            " 5   Purchase Address  186305 non-null  object\n",
            "dtypes: object(6)\n",
            "memory usage: 8.6+ MB\n"
          ]
        }
      ],
      "source": [
        "uncleaned.info()"
      ]
    },
    {
      "attachments": {},
      "cell_type": "markdown",
      "id": "e15b7785",
      "metadata": {
        "id": "e15b7785"
      },
      "source": [
        "# 2. Clean the data"
      ]
    },
    {
      "attachments": {},
      "cell_type": "markdown",
      "id": "1247c1eb",
      "metadata": {
        "id": "1247c1eb"
      },
      "source": [
        "### Drop all rows that contains null values"
      ]
    },
    {
      "cell_type": "code",
      "execution_count": 23,
      "id": "5f62a283",
      "metadata": {
        "id": "5f62a283",
        "outputId": "a46da7e2-451b-45ac-d815-ebcbf76c11f6"
      },
      "outputs": [
        {
          "data": {
            "text/plain": [
              "Order ID            545\n",
              "Product             545\n",
              "Quantity Ordered    545\n",
              "Price Each          545\n",
              "Order Date          545\n",
              "Purchase Address    545\n",
              "dtype: int64"
            ]
          },
          "execution_count": 23,
          "metadata": {},
          "output_type": "execute_result"
        }
      ],
      "source": [
        "uncleaned.isnull().sum()"
      ]
    },
    {
      "cell_type": "code",
      "execution_count": 24,
      "id": "9212a462",
      "metadata": {},
      "outputs": [
        {
          "data": {
            "text/html": [
              "<div>\n",
              "<style scoped>\n",
              "    .dataframe tbody tr th:only-of-type {\n",
              "        vertical-align: middle;\n",
              "    }\n",
              "\n",
              "    .dataframe tbody tr th {\n",
              "        vertical-align: top;\n",
              "    }\n",
              "\n",
              "    .dataframe thead th {\n",
              "        text-align: right;\n",
              "    }\n",
              "</style>\n",
              "<table border=\"1\" class=\"dataframe\">\n",
              "  <thead>\n",
              "    <tr style=\"text-align: right;\">\n",
              "      <th></th>\n",
              "      <th>Order ID</th>\n",
              "      <th>Product</th>\n",
              "      <th>Quantity Ordered</th>\n",
              "      <th>Price Each</th>\n",
              "      <th>Order Date</th>\n",
              "      <th>Purchase Address</th>\n",
              "    </tr>\n",
              "  </thead>\n",
              "  <tbody>\n",
              "    <tr>\n",
              "      <th>1</th>\n",
              "      <td>NaN</td>\n",
              "      <td>NaN</td>\n",
              "      <td>NaN</td>\n",
              "      <td>NaN</td>\n",
              "      <td>NaN</td>\n",
              "      <td>NaN</td>\n",
              "    </tr>\n",
              "    <tr>\n",
              "      <th>356</th>\n",
              "      <td>NaN</td>\n",
              "      <td>NaN</td>\n",
              "      <td>NaN</td>\n",
              "      <td>NaN</td>\n",
              "      <td>NaN</td>\n",
              "      <td>NaN</td>\n",
              "    </tr>\n",
              "    <tr>\n",
              "      <th>735</th>\n",
              "      <td>NaN</td>\n",
              "      <td>NaN</td>\n",
              "      <td>NaN</td>\n",
              "      <td>NaN</td>\n",
              "      <td>NaN</td>\n",
              "      <td>NaN</td>\n",
              "    </tr>\n",
              "    <tr>\n",
              "      <th>1433</th>\n",
              "      <td>NaN</td>\n",
              "      <td>NaN</td>\n",
              "      <td>NaN</td>\n",
              "      <td>NaN</td>\n",
              "      <td>NaN</td>\n",
              "      <td>NaN</td>\n",
              "    </tr>\n",
              "    <tr>\n",
              "      <th>1553</th>\n",
              "      <td>NaN</td>\n",
              "      <td>NaN</td>\n",
              "      <td>NaN</td>\n",
              "      <td>NaN</td>\n",
              "      <td>NaN</td>\n",
              "      <td>NaN</td>\n",
              "    </tr>\n",
              "    <tr>\n",
              "      <th>...</th>\n",
              "      <td>...</td>\n",
              "      <td>...</td>\n",
              "      <td>...</td>\n",
              "      <td>...</td>\n",
              "      <td>...</td>\n",
              "      <td>...</td>\n",
              "    </tr>\n",
              "    <tr>\n",
              "      <th>185176</th>\n",
              "      <td>NaN</td>\n",
              "      <td>NaN</td>\n",
              "      <td>NaN</td>\n",
              "      <td>NaN</td>\n",
              "      <td>NaN</td>\n",
              "      <td>NaN</td>\n",
              "    </tr>\n",
              "    <tr>\n",
              "      <th>185438</th>\n",
              "      <td>NaN</td>\n",
              "      <td>NaN</td>\n",
              "      <td>NaN</td>\n",
              "      <td>NaN</td>\n",
              "      <td>NaN</td>\n",
              "      <td>NaN</td>\n",
              "    </tr>\n",
              "    <tr>\n",
              "      <th>186042</th>\n",
              "      <td>NaN</td>\n",
              "      <td>NaN</td>\n",
              "      <td>NaN</td>\n",
              "      <td>NaN</td>\n",
              "      <td>NaN</td>\n",
              "      <td>NaN</td>\n",
              "    </tr>\n",
              "    <tr>\n",
              "      <th>186548</th>\n",
              "      <td>NaN</td>\n",
              "      <td>NaN</td>\n",
              "      <td>NaN</td>\n",
              "      <td>NaN</td>\n",
              "      <td>NaN</td>\n",
              "      <td>NaN</td>\n",
              "    </tr>\n",
              "    <tr>\n",
              "      <th>186826</th>\n",
              "      <td>NaN</td>\n",
              "      <td>NaN</td>\n",
              "      <td>NaN</td>\n",
              "      <td>NaN</td>\n",
              "      <td>NaN</td>\n",
              "      <td>NaN</td>\n",
              "    </tr>\n",
              "  </tbody>\n",
              "</table>\n",
              "<p>545 rows × 6 columns</p>\n",
              "</div>"
            ],
            "text/plain": [
              "       Order ID Product Quantity Ordered Price Each Order Date  \\\n",
              "1           NaN     NaN              NaN        NaN        NaN   \n",
              "356         NaN     NaN              NaN        NaN        NaN   \n",
              "735         NaN     NaN              NaN        NaN        NaN   \n",
              "1433        NaN     NaN              NaN        NaN        NaN   \n",
              "1553        NaN     NaN              NaN        NaN        NaN   \n",
              "...         ...     ...              ...        ...        ...   \n",
              "185176      NaN     NaN              NaN        NaN        NaN   \n",
              "185438      NaN     NaN              NaN        NaN        NaN   \n",
              "186042      NaN     NaN              NaN        NaN        NaN   \n",
              "186548      NaN     NaN              NaN        NaN        NaN   \n",
              "186826      NaN     NaN              NaN        NaN        NaN   \n",
              "\n",
              "       Purchase Address  \n",
              "1                   NaN  \n",
              "356                 NaN  \n",
              "735                 NaN  \n",
              "1433                NaN  \n",
              "1553                NaN  \n",
              "...                 ...  \n",
              "185176              NaN  \n",
              "185438              NaN  \n",
              "186042              NaN  \n",
              "186548              NaN  \n",
              "186826              NaN  \n",
              "\n",
              "[545 rows x 6 columns]"
            ]
          },
          "execution_count": 24,
          "metadata": {},
          "output_type": "execute_result"
        }
      ],
      "source": [
        "uncleaned[uncleaned['Order ID'].isnull()]"
      ]
    },
    {
      "cell_type": "code",
      "execution_count": 25,
      "id": "b3d93c0c",
      "metadata": {
        "id": "b3d93c0c"
      },
      "outputs": [],
      "source": [
        "uncleaned = uncleaned.dropna()"
      ]
    },
    {
      "cell_type": "code",
      "execution_count": 26,
      "id": "cc4a866f",
      "metadata": {
        "id": "cc4a866f",
        "outputId": "3968a7bf-03ec-4931-f658-62d82227d7c6"
      },
      "outputs": [
        {
          "data": {
            "text/plain": [
              "Order ID            0\n",
              "Product             0\n",
              "Quantity Ordered    0\n",
              "Price Each          0\n",
              "Order Date          0\n",
              "Purchase Address    0\n",
              "dtype: int64"
            ]
          },
          "execution_count": 26,
          "metadata": {},
          "output_type": "execute_result"
        }
      ],
      "source": [
        "uncleaned.isnull().sum()"
      ]
    },
    {
      "attachments": {},
      "cell_type": "markdown",
      "id": "565c8a23",
      "metadata": {
        "id": "565c8a23"
      },
      "source": [
        "### Drop all header that is identified as a data"
      ]
    },
    {
      "cell_type": "code",
      "execution_count": 27,
      "id": "88cf65ec",
      "metadata": {
        "id": "88cf65ec",
        "outputId": "cdb32458-7d57-4969-f15d-9094e0a6ba73"
      },
      "outputs": [
        {
          "data": {
            "text/html": [
              "<div>\n",
              "<style scoped>\n",
              "    .dataframe tbody tr th:only-of-type {\n",
              "        vertical-align: middle;\n",
              "    }\n",
              "\n",
              "    .dataframe tbody tr th {\n",
              "        vertical-align: top;\n",
              "    }\n",
              "\n",
              "    .dataframe thead th {\n",
              "        text-align: right;\n",
              "    }\n",
              "</style>\n",
              "<table border=\"1\" class=\"dataframe\">\n",
              "  <thead>\n",
              "    <tr style=\"text-align: right;\">\n",
              "      <th></th>\n",
              "      <th>Order ID</th>\n",
              "      <th>Product</th>\n",
              "      <th>Quantity Ordered</th>\n",
              "      <th>Price Each</th>\n",
              "      <th>Order Date</th>\n",
              "      <th>Purchase Address</th>\n",
              "    </tr>\n",
              "  </thead>\n",
              "  <tbody>\n",
              "    <tr>\n",
              "      <th>519</th>\n",
              "      <td>Order ID</td>\n",
              "      <td>Product</td>\n",
              "      <td>Quantity Ordered</td>\n",
              "      <td>Price Each</td>\n",
              "      <td>Order Date</td>\n",
              "      <td>Purchase Address</td>\n",
              "    </tr>\n",
              "    <tr>\n",
              "      <th>1149</th>\n",
              "      <td>Order ID</td>\n",
              "      <td>Product</td>\n",
              "      <td>Quantity Ordered</td>\n",
              "      <td>Price Each</td>\n",
              "      <td>Order Date</td>\n",
              "      <td>Purchase Address</td>\n",
              "    </tr>\n",
              "    <tr>\n",
              "      <th>1155</th>\n",
              "      <td>Order ID</td>\n",
              "      <td>Product</td>\n",
              "      <td>Quantity Ordered</td>\n",
              "      <td>Price Each</td>\n",
              "      <td>Order Date</td>\n",
              "      <td>Purchase Address</td>\n",
              "    </tr>\n",
              "    <tr>\n",
              "      <th>2878</th>\n",
              "      <td>Order ID</td>\n",
              "      <td>Product</td>\n",
              "      <td>Quantity Ordered</td>\n",
              "      <td>Price Each</td>\n",
              "      <td>Order Date</td>\n",
              "      <td>Purchase Address</td>\n",
              "    </tr>\n",
              "    <tr>\n",
              "      <th>2893</th>\n",
              "      <td>Order ID</td>\n",
              "      <td>Product</td>\n",
              "      <td>Quantity Ordered</td>\n",
              "      <td>Price Each</td>\n",
              "      <td>Order Date</td>\n",
              "      <td>Purchase Address</td>\n",
              "    </tr>\n",
              "    <tr>\n",
              "      <th>...</th>\n",
              "      <td>...</td>\n",
              "      <td>...</td>\n",
              "      <td>...</td>\n",
              "      <td>...</td>\n",
              "      <td>...</td>\n",
              "      <td>...</td>\n",
              "    </tr>\n",
              "    <tr>\n",
              "      <th>185164</th>\n",
              "      <td>Order ID</td>\n",
              "      <td>Product</td>\n",
              "      <td>Quantity Ordered</td>\n",
              "      <td>Price Each</td>\n",
              "      <td>Order Date</td>\n",
              "      <td>Purchase Address</td>\n",
              "    </tr>\n",
              "    <tr>\n",
              "      <th>185551</th>\n",
              "      <td>Order ID</td>\n",
              "      <td>Product</td>\n",
              "      <td>Quantity Ordered</td>\n",
              "      <td>Price Each</td>\n",
              "      <td>Order Date</td>\n",
              "      <td>Purchase Address</td>\n",
              "    </tr>\n",
              "    <tr>\n",
              "      <th>186563</th>\n",
              "      <td>Order ID</td>\n",
              "      <td>Product</td>\n",
              "      <td>Quantity Ordered</td>\n",
              "      <td>Price Each</td>\n",
              "      <td>Order Date</td>\n",
              "      <td>Purchase Address</td>\n",
              "    </tr>\n",
              "    <tr>\n",
              "      <th>186632</th>\n",
              "      <td>Order ID</td>\n",
              "      <td>Product</td>\n",
              "      <td>Quantity Ordered</td>\n",
              "      <td>Price Each</td>\n",
              "      <td>Order Date</td>\n",
              "      <td>Purchase Address</td>\n",
              "    </tr>\n",
              "    <tr>\n",
              "      <th>186738</th>\n",
              "      <td>Order ID</td>\n",
              "      <td>Product</td>\n",
              "      <td>Quantity Ordered</td>\n",
              "      <td>Price Each</td>\n",
              "      <td>Order Date</td>\n",
              "      <td>Purchase Address</td>\n",
              "    </tr>\n",
              "  </tbody>\n",
              "</table>\n",
              "<p>355 rows × 6 columns</p>\n",
              "</div>"
            ],
            "text/plain": [
              "        Order ID  Product  Quantity Ordered  Price Each  Order Date  \\\n",
              "519     Order ID  Product  Quantity Ordered  Price Each  Order Date   \n",
              "1149    Order ID  Product  Quantity Ordered  Price Each  Order Date   \n",
              "1155    Order ID  Product  Quantity Ordered  Price Each  Order Date   \n",
              "2878    Order ID  Product  Quantity Ordered  Price Each  Order Date   \n",
              "2893    Order ID  Product  Quantity Ordered  Price Each  Order Date   \n",
              "...          ...      ...               ...         ...         ...   \n",
              "185164  Order ID  Product  Quantity Ordered  Price Each  Order Date   \n",
              "185551  Order ID  Product  Quantity Ordered  Price Each  Order Date   \n",
              "186563  Order ID  Product  Quantity Ordered  Price Each  Order Date   \n",
              "186632  Order ID  Product  Quantity Ordered  Price Each  Order Date   \n",
              "186738  Order ID  Product  Quantity Ordered  Price Each  Order Date   \n",
              "\n",
              "        Purchase Address  \n",
              "519     Purchase Address  \n",
              "1149    Purchase Address  \n",
              "1155    Purchase Address  \n",
              "2878    Purchase Address  \n",
              "2893    Purchase Address  \n",
              "...                  ...  \n",
              "185164  Purchase Address  \n",
              "185551  Purchase Address  \n",
              "186563  Purchase Address  \n",
              "186632  Purchase Address  \n",
              "186738  Purchase Address  \n",
              "\n",
              "[355 rows x 6 columns]"
            ]
          },
          "execution_count": 27,
          "metadata": {},
          "output_type": "execute_result"
        }
      ],
      "source": [
        "uncleaned[uncleaned.Product == \"Product\"]"
      ]
    },
    {
      "cell_type": "code",
      "execution_count": 28,
      "id": "6cc7b6f9",
      "metadata": {
        "id": "6cc7b6f9"
      },
      "outputs": [],
      "source": [
        "uncleaned = uncleaned.drop(uncleaned[uncleaned['Product'] == 'Product'].index)"
      ]
    },
    {
      "cell_type": "code",
      "execution_count": 29,
      "id": "e007f621",
      "metadata": {
        "id": "e007f621",
        "outputId": "56399cc5-0d3d-484a-9426-de17303e9526"
      },
      "outputs": [
        {
          "data": {
            "text/html": [
              "<div>\n",
              "<style scoped>\n",
              "    .dataframe tbody tr th:only-of-type {\n",
              "        vertical-align: middle;\n",
              "    }\n",
              "\n",
              "    .dataframe tbody tr th {\n",
              "        vertical-align: top;\n",
              "    }\n",
              "\n",
              "    .dataframe thead th {\n",
              "        text-align: right;\n",
              "    }\n",
              "</style>\n",
              "<table border=\"1\" class=\"dataframe\">\n",
              "  <thead>\n",
              "    <tr style=\"text-align: right;\">\n",
              "      <th></th>\n",
              "      <th>Order ID</th>\n",
              "      <th>Product</th>\n",
              "      <th>Quantity Ordered</th>\n",
              "      <th>Price Each</th>\n",
              "      <th>Order Date</th>\n",
              "      <th>Purchase Address</th>\n",
              "    </tr>\n",
              "  </thead>\n",
              "  <tbody>\n",
              "  </tbody>\n",
              "</table>\n",
              "</div>"
            ],
            "text/plain": [
              "Empty DataFrame\n",
              "Columns: [Order ID, Product, Quantity Ordered, Price Each, Order Date, Purchase Address]\n",
              "Index: []"
            ]
          },
          "execution_count": 29,
          "metadata": {},
          "output_type": "execute_result"
        }
      ],
      "source": [
        "uncleaned[uncleaned.Product == \"Product\"]"
      ]
    },
    {
      "attachments": {},
      "cell_type": "markdown",
      "id": "84ad9611",
      "metadata": {
        "id": "84ad9611"
      },
      "source": [
        "# 3. Add columns to assist analysis"
      ]
    },
    {
      "attachments": {},
      "cell_type": "markdown",
      "id": "16115c13",
      "metadata": {
        "id": "16115c13"
      },
      "source": [
        "### Total purchase colums = Obtained from Quantity Ordered column * Price Each column"
      ]
    },
    {
      "cell_type": "code",
      "execution_count": 30,
      "id": "fe382c91",
      "metadata": {
        "id": "fe382c91"
      },
      "outputs": [],
      "source": [
        "uncleaned['Quantity Ordered'] = uncleaned['Quantity Ordered'].astype('int')\n",
        "uncleaned['Price Each'] = uncleaned['Price Each'].astype('float')"
      ]
    },
    {
      "cell_type": "code",
      "execution_count": 31,
      "id": "85b03ec3",
      "metadata": {
        "id": "85b03ec3",
        "outputId": "ca196935-264f-4574-a584-09b49aed6c83"
      },
      "outputs": [
        {
          "name": "stdout",
          "output_type": "stream",
          "text": [
            "Quantity Ordered data type = int32\n"
          ]
        }
      ],
      "source": [
        "print(\"Quantity Ordered data type =\",uncleaned['Quantity Ordered'] .dtypes)"
      ]
    },
    {
      "cell_type": "code",
      "execution_count": 32,
      "id": "5ada2123",
      "metadata": {
        "id": "5ada2123",
        "outputId": "5f3526a5-a9b1-4b63-ffb5-5f33d63e7b58"
      },
      "outputs": [
        {
          "name": "stdout",
          "output_type": "stream",
          "text": [
            "Price Each data type = float64\n"
          ]
        }
      ],
      "source": [
        "print(\"Price Each data type =\",uncleaned['Price Each'].dtypes)"
      ]
    },
    {
      "cell_type": "code",
      "execution_count": 33,
      "id": "63bbd99e",
      "metadata": {
        "id": "63bbd99e"
      },
      "outputs": [],
      "source": [
        "uncleaned['Total Purchase'] = uncleaned['Quantity Ordered'] * uncleaned['Price Each']"
      ]
    },
    {
      "cell_type": "code",
      "execution_count": 34,
      "id": "df235813",
      "metadata": {
        "id": "df235813",
        "outputId": "a977c9da-c526-4e23-81e0-a411d691be6b"
      },
      "outputs": [
        {
          "data": {
            "text/html": [
              "<div>\n",
              "<style scoped>\n",
              "    .dataframe tbody tr th:only-of-type {\n",
              "        vertical-align: middle;\n",
              "    }\n",
              "\n",
              "    .dataframe tbody tr th {\n",
              "        vertical-align: top;\n",
              "    }\n",
              "\n",
              "    .dataframe thead th {\n",
              "        text-align: right;\n",
              "    }\n",
              "</style>\n",
              "<table border=\"1\" class=\"dataframe\">\n",
              "  <thead>\n",
              "    <tr style=\"text-align: right;\">\n",
              "      <th></th>\n",
              "      <th>Order ID</th>\n",
              "      <th>Product</th>\n",
              "      <th>Quantity Ordered</th>\n",
              "      <th>Price Each</th>\n",
              "      <th>Order Date</th>\n",
              "      <th>Purchase Address</th>\n",
              "      <th>Total Purchase</th>\n",
              "    </tr>\n",
              "  </thead>\n",
              "  <tbody>\n",
              "    <tr>\n",
              "      <th>0</th>\n",
              "      <td>176558</td>\n",
              "      <td>USB-C Charging Cable</td>\n",
              "      <td>2</td>\n",
              "      <td>11.95</td>\n",
              "      <td>04/19/19 08:46</td>\n",
              "      <td>917 1st St, Dallas, TX 75001</td>\n",
              "      <td>23.90</td>\n",
              "    </tr>\n",
              "    <tr>\n",
              "      <th>2</th>\n",
              "      <td>176559</td>\n",
              "      <td>Bose SoundSport Headphones</td>\n",
              "      <td>1</td>\n",
              "      <td>99.99</td>\n",
              "      <td>04/07/19 22:30</td>\n",
              "      <td>682 Chestnut St, Boston, MA 02215</td>\n",
              "      <td>99.99</td>\n",
              "    </tr>\n",
              "    <tr>\n",
              "      <th>3</th>\n",
              "      <td>176560</td>\n",
              "      <td>Google Phone</td>\n",
              "      <td>1</td>\n",
              "      <td>600.00</td>\n",
              "      <td>04/12/19 14:38</td>\n",
              "      <td>669 Spruce St, Los Angeles, CA 90001</td>\n",
              "      <td>600.00</td>\n",
              "    </tr>\n",
              "    <tr>\n",
              "      <th>4</th>\n",
              "      <td>176560</td>\n",
              "      <td>Wired Headphones</td>\n",
              "      <td>1</td>\n",
              "      <td>11.99</td>\n",
              "      <td>04/12/19 14:38</td>\n",
              "      <td>669 Spruce St, Los Angeles, CA 90001</td>\n",
              "      <td>11.99</td>\n",
              "    </tr>\n",
              "    <tr>\n",
              "      <th>5</th>\n",
              "      <td>176561</td>\n",
              "      <td>Wired Headphones</td>\n",
              "      <td>1</td>\n",
              "      <td>11.99</td>\n",
              "      <td>04/30/19 09:27</td>\n",
              "      <td>333 8th St, Los Angeles, CA 90001</td>\n",
              "      <td>11.99</td>\n",
              "    </tr>\n",
              "  </tbody>\n",
              "</table>\n",
              "</div>"
            ],
            "text/plain": [
              "  Order ID                     Product  Quantity Ordered  Price Each  \\\n",
              "0   176558        USB-C Charging Cable                 2       11.95   \n",
              "2   176559  Bose SoundSport Headphones                 1       99.99   \n",
              "3   176560                Google Phone                 1      600.00   \n",
              "4   176560            Wired Headphones                 1       11.99   \n",
              "5   176561            Wired Headphones                 1       11.99   \n",
              "\n",
              "       Order Date                      Purchase Address  Total Purchase  \n",
              "0  04/19/19 08:46          917 1st St, Dallas, TX 75001           23.90  \n",
              "2  04/07/19 22:30     682 Chestnut St, Boston, MA 02215           99.99  \n",
              "3  04/12/19 14:38  669 Spruce St, Los Angeles, CA 90001          600.00  \n",
              "4  04/12/19 14:38  669 Spruce St, Los Angeles, CA 90001           11.99  \n",
              "5  04/30/19 09:27     333 8th St, Los Angeles, CA 90001           11.99  "
            ]
          },
          "execution_count": 34,
          "metadata": {},
          "output_type": "execute_result"
        }
      ],
      "source": [
        "uncleaned.head()"
      ]
    },
    {
      "attachments": {},
      "cell_type": "markdown",
      "id": "0dfc9d27",
      "metadata": {
        "id": "0dfc9d27"
      },
      "source": [
        "### Month columns = Obtained from month of Order Date columns"
      ]
    },
    {
      "cell_type": "code",
      "execution_count": 35,
      "id": "7c99ba80",
      "metadata": {
        "id": "7c99ba80"
      },
      "outputs": [],
      "source": [
        "uncleaned['Order Date'] = pd.to_datetime(uncleaned['Order Date'])"
      ]
    },
    {
      "cell_type": "code",
      "execution_count": 36,
      "id": "7f980c24",
      "metadata": {
        "id": "7f980c24",
        "outputId": "3c450fc0-1a3b-487d-fc61-90cf763ff228"
      },
      "outputs": [
        {
          "name": "stdout",
          "output_type": "stream",
          "text": [
            "Order Date data type = datetime64[ns]\n"
          ]
        }
      ],
      "source": [
        "print(\"Order Date data type =\",uncleaned['Order Date'].dtypes)"
      ]
    },
    {
      "cell_type": "code",
      "execution_count": 37,
      "id": "b2b47c4d",
      "metadata": {
        "id": "b2b47c4d"
      },
      "outputs": [],
      "source": [
        "uncleaned['Month'] = uncleaned['Order Date'].dt.month"
      ]
    },
    {
      "cell_type": "code",
      "execution_count": 38,
      "id": "9c6febce",
      "metadata": {
        "id": "9c6febce"
      },
      "outputs": [],
      "source": [
        "month_dict = {\n",
        "    1 : \"January\",\n",
        "    2 : \"February\",\n",
        "    3 : \"March\",\n",
        "    4 : \"April\",\n",
        "    5 : \"May\",\n",
        "    6 : \"June\",\n",
        "    7 : \"July\",\n",
        "    8 : \"August\",\n",
        "    9 : \"September\",\n",
        "    10 : \"October\",\n",
        "    11 : \"November\",\n",
        "    12 : \"December\"\n",
        "}\n",
        "uncleaned = uncleaned.replace({\"Month\":month_dict})"
      ]
    },
    {
      "cell_type": "code",
      "execution_count": 39,
      "id": "b3fb9b4b",
      "metadata": {
        "id": "b3fb9b4b",
        "outputId": "edae3b2e-8d68-4acb-b6d4-52802d9b6aef"
      },
      "outputs": [
        {
          "data": {
            "text/html": [
              "<div>\n",
              "<style scoped>\n",
              "    .dataframe tbody tr th:only-of-type {\n",
              "        vertical-align: middle;\n",
              "    }\n",
              "\n",
              "    .dataframe tbody tr th {\n",
              "        vertical-align: top;\n",
              "    }\n",
              "\n",
              "    .dataframe thead th {\n",
              "        text-align: right;\n",
              "    }\n",
              "</style>\n",
              "<table border=\"1\" class=\"dataframe\">\n",
              "  <thead>\n",
              "    <tr style=\"text-align: right;\">\n",
              "      <th></th>\n",
              "      <th>Order ID</th>\n",
              "      <th>Product</th>\n",
              "      <th>Quantity Ordered</th>\n",
              "      <th>Price Each</th>\n",
              "      <th>Order Date</th>\n",
              "      <th>Purchase Address</th>\n",
              "      <th>Total Purchase</th>\n",
              "      <th>Month</th>\n",
              "    </tr>\n",
              "  </thead>\n",
              "  <tbody>\n",
              "    <tr>\n",
              "      <th>0</th>\n",
              "      <td>176558</td>\n",
              "      <td>USB-C Charging Cable</td>\n",
              "      <td>2</td>\n",
              "      <td>11.95</td>\n",
              "      <td>2019-04-19 08:46:00</td>\n",
              "      <td>917 1st St, Dallas, TX 75001</td>\n",
              "      <td>23.90</td>\n",
              "      <td>April</td>\n",
              "    </tr>\n",
              "    <tr>\n",
              "      <th>2</th>\n",
              "      <td>176559</td>\n",
              "      <td>Bose SoundSport Headphones</td>\n",
              "      <td>1</td>\n",
              "      <td>99.99</td>\n",
              "      <td>2019-04-07 22:30:00</td>\n",
              "      <td>682 Chestnut St, Boston, MA 02215</td>\n",
              "      <td>99.99</td>\n",
              "      <td>April</td>\n",
              "    </tr>\n",
              "    <tr>\n",
              "      <th>3</th>\n",
              "      <td>176560</td>\n",
              "      <td>Google Phone</td>\n",
              "      <td>1</td>\n",
              "      <td>600.00</td>\n",
              "      <td>2019-04-12 14:38:00</td>\n",
              "      <td>669 Spruce St, Los Angeles, CA 90001</td>\n",
              "      <td>600.00</td>\n",
              "      <td>April</td>\n",
              "    </tr>\n",
              "    <tr>\n",
              "      <th>4</th>\n",
              "      <td>176560</td>\n",
              "      <td>Wired Headphones</td>\n",
              "      <td>1</td>\n",
              "      <td>11.99</td>\n",
              "      <td>2019-04-12 14:38:00</td>\n",
              "      <td>669 Spruce St, Los Angeles, CA 90001</td>\n",
              "      <td>11.99</td>\n",
              "      <td>April</td>\n",
              "    </tr>\n",
              "    <tr>\n",
              "      <th>5</th>\n",
              "      <td>176561</td>\n",
              "      <td>Wired Headphones</td>\n",
              "      <td>1</td>\n",
              "      <td>11.99</td>\n",
              "      <td>2019-04-30 09:27:00</td>\n",
              "      <td>333 8th St, Los Angeles, CA 90001</td>\n",
              "      <td>11.99</td>\n",
              "      <td>April</td>\n",
              "    </tr>\n",
              "  </tbody>\n",
              "</table>\n",
              "</div>"
            ],
            "text/plain": [
              "  Order ID                     Product  Quantity Ordered  Price Each  \\\n",
              "0   176558        USB-C Charging Cable                 2       11.95   \n",
              "2   176559  Bose SoundSport Headphones                 1       99.99   \n",
              "3   176560                Google Phone                 1      600.00   \n",
              "4   176560            Wired Headphones                 1       11.99   \n",
              "5   176561            Wired Headphones                 1       11.99   \n",
              "\n",
              "           Order Date                      Purchase Address  Total Purchase  \\\n",
              "0 2019-04-19 08:46:00          917 1st St, Dallas, TX 75001           23.90   \n",
              "2 2019-04-07 22:30:00     682 Chestnut St, Boston, MA 02215           99.99   \n",
              "3 2019-04-12 14:38:00  669 Spruce St, Los Angeles, CA 90001          600.00   \n",
              "4 2019-04-12 14:38:00  669 Spruce St, Los Angeles, CA 90001           11.99   \n",
              "5 2019-04-30 09:27:00     333 8th St, Los Angeles, CA 90001           11.99   \n",
              "\n",
              "   Month  \n",
              "0  April  \n",
              "2  April  \n",
              "3  April  \n",
              "4  April  \n",
              "5  April  "
            ]
          },
          "execution_count": 39,
          "metadata": {},
          "output_type": "execute_result"
        }
      ],
      "source": [
        "uncleaned.head()"
      ]
    },
    {
      "attachments": {},
      "cell_type": "markdown",
      "id": "f14c4d0b",
      "metadata": {
        "id": "f14c4d0b"
      },
      "source": [
        "### City columns = Obtained from Purchase Address columns"
      ]
    },
    {
      "cell_type": "code",
      "execution_count": 40,
      "id": "c2857908",
      "metadata": {
        "id": "c2857908"
      },
      "outputs": [],
      "source": [
        "def get_city(df):\n",
        "    df = df.split(',')\n",
        "    return df[1].strip()"
      ]
    },
    {
      "cell_type": "code",
      "execution_count": 41,
      "id": "3e2e3e34",
      "metadata": {
        "id": "3e2e3e34"
      },
      "outputs": [],
      "source": [
        "uncleaned['City'] = uncleaned['Purchase Address'].apply(lambda x : get_city(x))"
      ]
    },
    {
      "cell_type": "code",
      "execution_count": 42,
      "id": "e5aa9bea",
      "metadata": {
        "id": "e5aa9bea",
        "outputId": "24993e27-7d30-4d7f-be37-0232c78cfc68"
      },
      "outputs": [
        {
          "data": {
            "text/html": [
              "<div>\n",
              "<style scoped>\n",
              "    .dataframe tbody tr th:only-of-type {\n",
              "        vertical-align: middle;\n",
              "    }\n",
              "\n",
              "    .dataframe tbody tr th {\n",
              "        vertical-align: top;\n",
              "    }\n",
              "\n",
              "    .dataframe thead th {\n",
              "        text-align: right;\n",
              "    }\n",
              "</style>\n",
              "<table border=\"1\" class=\"dataframe\">\n",
              "  <thead>\n",
              "    <tr style=\"text-align: right;\">\n",
              "      <th></th>\n",
              "      <th>Order ID</th>\n",
              "      <th>Product</th>\n",
              "      <th>Quantity Ordered</th>\n",
              "      <th>Price Each</th>\n",
              "      <th>Order Date</th>\n",
              "      <th>Purchase Address</th>\n",
              "      <th>Total Purchase</th>\n",
              "      <th>Month</th>\n",
              "      <th>City</th>\n",
              "    </tr>\n",
              "  </thead>\n",
              "  <tbody>\n",
              "    <tr>\n",
              "      <th>0</th>\n",
              "      <td>176558</td>\n",
              "      <td>USB-C Charging Cable</td>\n",
              "      <td>2</td>\n",
              "      <td>11.95</td>\n",
              "      <td>2019-04-19 08:46:00</td>\n",
              "      <td>917 1st St, Dallas, TX 75001</td>\n",
              "      <td>23.90</td>\n",
              "      <td>April</td>\n",
              "      <td>Dallas</td>\n",
              "    </tr>\n",
              "    <tr>\n",
              "      <th>2</th>\n",
              "      <td>176559</td>\n",
              "      <td>Bose SoundSport Headphones</td>\n",
              "      <td>1</td>\n",
              "      <td>99.99</td>\n",
              "      <td>2019-04-07 22:30:00</td>\n",
              "      <td>682 Chestnut St, Boston, MA 02215</td>\n",
              "      <td>99.99</td>\n",
              "      <td>April</td>\n",
              "      <td>Boston</td>\n",
              "    </tr>\n",
              "    <tr>\n",
              "      <th>3</th>\n",
              "      <td>176560</td>\n",
              "      <td>Google Phone</td>\n",
              "      <td>1</td>\n",
              "      <td>600.00</td>\n",
              "      <td>2019-04-12 14:38:00</td>\n",
              "      <td>669 Spruce St, Los Angeles, CA 90001</td>\n",
              "      <td>600.00</td>\n",
              "      <td>April</td>\n",
              "      <td>Los Angeles</td>\n",
              "    </tr>\n",
              "    <tr>\n",
              "      <th>4</th>\n",
              "      <td>176560</td>\n",
              "      <td>Wired Headphones</td>\n",
              "      <td>1</td>\n",
              "      <td>11.99</td>\n",
              "      <td>2019-04-12 14:38:00</td>\n",
              "      <td>669 Spruce St, Los Angeles, CA 90001</td>\n",
              "      <td>11.99</td>\n",
              "      <td>April</td>\n",
              "      <td>Los Angeles</td>\n",
              "    </tr>\n",
              "    <tr>\n",
              "      <th>5</th>\n",
              "      <td>176561</td>\n",
              "      <td>Wired Headphones</td>\n",
              "      <td>1</td>\n",
              "      <td>11.99</td>\n",
              "      <td>2019-04-30 09:27:00</td>\n",
              "      <td>333 8th St, Los Angeles, CA 90001</td>\n",
              "      <td>11.99</td>\n",
              "      <td>April</td>\n",
              "      <td>Los Angeles</td>\n",
              "    </tr>\n",
              "  </tbody>\n",
              "</table>\n",
              "</div>"
            ],
            "text/plain": [
              "  Order ID                     Product  Quantity Ordered  Price Each  \\\n",
              "0   176558        USB-C Charging Cable                 2       11.95   \n",
              "2   176559  Bose SoundSport Headphones                 1       99.99   \n",
              "3   176560                Google Phone                 1      600.00   \n",
              "4   176560            Wired Headphones                 1       11.99   \n",
              "5   176561            Wired Headphones                 1       11.99   \n",
              "\n",
              "           Order Date                      Purchase Address  Total Purchase  \\\n",
              "0 2019-04-19 08:46:00          917 1st St, Dallas, TX 75001           23.90   \n",
              "2 2019-04-07 22:30:00     682 Chestnut St, Boston, MA 02215           99.99   \n",
              "3 2019-04-12 14:38:00  669 Spruce St, Los Angeles, CA 90001          600.00   \n",
              "4 2019-04-12 14:38:00  669 Spruce St, Los Angeles, CA 90001           11.99   \n",
              "5 2019-04-30 09:27:00     333 8th St, Los Angeles, CA 90001           11.99   \n",
              "\n",
              "   Month         City  \n",
              "0  April       Dallas  \n",
              "2  April       Boston  \n",
              "3  April  Los Angeles  \n",
              "4  April  Los Angeles  \n",
              "5  April  Los Angeles  "
            ]
          },
          "execution_count": 42,
          "metadata": {},
          "output_type": "execute_result"
        }
      ],
      "source": [
        "uncleaned.head()"
      ]
    },
    {
      "attachments": {},
      "cell_type": "markdown",
      "id": "1bed955a",
      "metadata": {},
      "source": [
        "### Cleaned data"
      ]
    },
    {
      "cell_type": "code",
      "execution_count": 43,
      "id": "d2edf7ba",
      "metadata": {},
      "outputs": [
        {
          "data": {
            "text/html": [
              "<div>\n",
              "<style scoped>\n",
              "    .dataframe tbody tr th:only-of-type {\n",
              "        vertical-align: middle;\n",
              "    }\n",
              "\n",
              "    .dataframe tbody tr th {\n",
              "        vertical-align: top;\n",
              "    }\n",
              "\n",
              "    .dataframe thead th {\n",
              "        text-align: right;\n",
              "    }\n",
              "</style>\n",
              "<table border=\"1\" class=\"dataframe\">\n",
              "  <thead>\n",
              "    <tr style=\"text-align: right;\">\n",
              "      <th></th>\n",
              "      <th>Order ID</th>\n",
              "      <th>Product</th>\n",
              "      <th>Quantity Ordered</th>\n",
              "      <th>Price Each</th>\n",
              "      <th>Order Date</th>\n",
              "      <th>Purchase Address</th>\n",
              "      <th>Total Purchase</th>\n",
              "      <th>Month</th>\n",
              "      <th>City</th>\n",
              "    </tr>\n",
              "  </thead>\n",
              "  <tbody>\n",
              "    <tr>\n",
              "      <th>0</th>\n",
              "      <td>176558</td>\n",
              "      <td>USB-C Charging Cable</td>\n",
              "      <td>2</td>\n",
              "      <td>11.95</td>\n",
              "      <td>2019-04-19 08:46:00</td>\n",
              "      <td>917 1st St, Dallas, TX 75001</td>\n",
              "      <td>23.90</td>\n",
              "      <td>April</td>\n",
              "      <td>Dallas</td>\n",
              "    </tr>\n",
              "    <tr>\n",
              "      <th>2</th>\n",
              "      <td>176559</td>\n",
              "      <td>Bose SoundSport Headphones</td>\n",
              "      <td>1</td>\n",
              "      <td>99.99</td>\n",
              "      <td>2019-04-07 22:30:00</td>\n",
              "      <td>682 Chestnut St, Boston, MA 02215</td>\n",
              "      <td>99.99</td>\n",
              "      <td>April</td>\n",
              "      <td>Boston</td>\n",
              "    </tr>\n",
              "    <tr>\n",
              "      <th>3</th>\n",
              "      <td>176560</td>\n",
              "      <td>Google Phone</td>\n",
              "      <td>1</td>\n",
              "      <td>600.00</td>\n",
              "      <td>2019-04-12 14:38:00</td>\n",
              "      <td>669 Spruce St, Los Angeles, CA 90001</td>\n",
              "      <td>600.00</td>\n",
              "      <td>April</td>\n",
              "      <td>Los Angeles</td>\n",
              "    </tr>\n",
              "    <tr>\n",
              "      <th>4</th>\n",
              "      <td>176560</td>\n",
              "      <td>Wired Headphones</td>\n",
              "      <td>1</td>\n",
              "      <td>11.99</td>\n",
              "      <td>2019-04-12 14:38:00</td>\n",
              "      <td>669 Spruce St, Los Angeles, CA 90001</td>\n",
              "      <td>11.99</td>\n",
              "      <td>April</td>\n",
              "      <td>Los Angeles</td>\n",
              "    </tr>\n",
              "    <tr>\n",
              "      <th>5</th>\n",
              "      <td>176561</td>\n",
              "      <td>Wired Headphones</td>\n",
              "      <td>1</td>\n",
              "      <td>11.99</td>\n",
              "      <td>2019-04-30 09:27:00</td>\n",
              "      <td>333 8th St, Los Angeles, CA 90001</td>\n",
              "      <td>11.99</td>\n",
              "      <td>April</td>\n",
              "      <td>Los Angeles</td>\n",
              "    </tr>\n",
              "  </tbody>\n",
              "</table>\n",
              "</div>"
            ],
            "text/plain": [
              "  Order ID                     Product  Quantity Ordered  Price Each  \\\n",
              "0   176558        USB-C Charging Cable                 2       11.95   \n",
              "2   176559  Bose SoundSport Headphones                 1       99.99   \n",
              "3   176560                Google Phone                 1      600.00   \n",
              "4   176560            Wired Headphones                 1       11.99   \n",
              "5   176561            Wired Headphones                 1       11.99   \n",
              "\n",
              "           Order Date                      Purchase Address  Total Purchase  \\\n",
              "0 2019-04-19 08:46:00          917 1st St, Dallas, TX 75001           23.90   \n",
              "2 2019-04-07 22:30:00     682 Chestnut St, Boston, MA 02215           99.99   \n",
              "3 2019-04-12 14:38:00  669 Spruce St, Los Angeles, CA 90001          600.00   \n",
              "4 2019-04-12 14:38:00  669 Spruce St, Los Angeles, CA 90001           11.99   \n",
              "5 2019-04-30 09:27:00     333 8th St, Los Angeles, CA 90001           11.99   \n",
              "\n",
              "   Month         City  \n",
              "0  April       Dallas  \n",
              "2  April       Boston  \n",
              "3  April  Los Angeles  \n",
              "4  April  Los Angeles  \n",
              "5  April  Los Angeles  "
            ]
          },
          "execution_count": 43,
          "metadata": {},
          "output_type": "execute_result"
        }
      ],
      "source": [
        "cleaned = uncleaned.copy()\n",
        "cleaned.head()"
      ]
    },
    {
      "cell_type": "code",
      "execution_count": 44,
      "id": "cdf5b570",
      "metadata": {
        "id": "cdf5b570"
      },
      "outputs": [],
      "source": [
        "cleaned.to_csv(\"sales_data.csv\",index=False)"
      ]
    },
    {
      "cell_type": "code",
      "execution_count": null,
      "id": "db581034",
      "metadata": {},
      "outputs": [],
      "source": []
    }
  ],
  "metadata": {
    "colab": {
      "provenance": []
    },
    "kernelspec": {
      "display_name": "Python 3",
      "language": "python",
      "name": "python3"
    },
    "language_info": {
      "codemirror_mode": {
        "name": "ipython",
        "version": 3
      },
      "file_extension": ".py",
      "mimetype": "text/x-python",
      "name": "python",
      "nbconvert_exporter": "python",
      "pygments_lexer": "ipython3",
      "version": "3.9.12"
    }
  },
  "nbformat": 4,
  "nbformat_minor": 5
}
